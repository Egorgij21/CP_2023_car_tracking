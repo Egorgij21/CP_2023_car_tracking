{
 "cells": [
  {
   "cell_type": "code",
   "execution_count": 1,
   "id": "d96f562c-1538-49d8-a7cc-1c0a668ef27e",
   "metadata": {
    "tags": []
   },
   "outputs": [],
   "source": [
    "import os"
   ]
  },
  {
   "cell_type": "code",
   "execution_count": 2,
   "id": "216ad32d-a9d9-43be-9bd4-d9ab3d889ef9",
   "metadata": {
    "tags": []
   },
   "outputs": [
    {
     "name": "stdout",
     "output_type": "stream",
     "text": [
      "[2023-11-24 17:34:53,154][root.tracker][INFO] - Loading weights from deep_sort_pytorch/deep_sort/deep/checkpoint/ckpt.t7... Done!\n",
      "2023-11-24 17:34:53.439224: I tensorflow/core/platform/cpu_feature_guard.cc:182] This TensorFlow binary is optimized to use available CPU instructions in performance-critical operations.\n",
      "To enable the following instructions: AVX2 FMA, in other operations, rebuild TensorFlow with the appropriate compiler flags.\n",
      "2023-11-24 17:34:53.975887: W tensorflow/compiler/tf2tensorrt/utils/py_utils.cc:38] TF-TRT Warning: Could not find TensorRT\n",
      "Ultralytics YOLOv8.0.3 🚀 Python-3.9.17 torch-2.0.0+cu117 CUDA:0 (NVIDIA GeForce RTX 3090, 24260MiB)\n",
      "Fusing layers... \n",
      "YOLOv8l summary: 268 layers, 43668288 parameters, 0 gradients, 165.2 GFLOPs\n",
      "0.0\n",
      "!\n",
      "!\n",
      "!\n",
      "!\n",
      "!\n",
      "!\n",
      "!\n",
      "!\n",
      "!\n",
      "^C\n",
      "Signal received. 2 <frame at 0x4ce61410, file '/app/storage_local/Egor/RSNA/catboost_info/cp/YOLOv8-DeepSORT-Object-Tracking/ultralytics/yolo/engine/predictor.py', line 204, code __call__>\n"
     ]
    }
   ],
   "source": [
    "!python predict.py model=yolov8l.pt source=\"../../../../../test.mp4\" json_path=\"../../../../../test.json\" save=False"
   ]
  },
  {
   "cell_type": "code",
   "execution_count": null,
   "id": "d6c61c54-879a-4812-8510-07d6c00b9464",
   "metadata": {},
   "outputs": [],
   "source": []
  }
 ],
 "metadata": {
  "kernelspec": {
   "display_name": "Python 3 (ipykernel)",
   "language": "python",
   "name": "python3"
  },
  "language_info": {
   "codemirror_mode": {
    "name": "ipython",
    "version": 3
   },
   "file_extension": ".py",
   "mimetype": "text/x-python",
   "name": "python",
   "nbconvert_exporter": "python",
   "pygments_lexer": "ipython3",
   "version": "3.9.17"
  }
 },
 "nbformat": 4,
 "nbformat_minor": 5
}
